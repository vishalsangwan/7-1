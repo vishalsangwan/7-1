{
 "cells": [
  {
   "cell_type": "code",
   "execution_count": 3,
   "metadata": {},
   "outputs": [],
   "source": [
    "import numpy as np"
   ]
  },
  {
   "cell_type": "code",
   "execution_count": 17,
   "metadata": {},
   "outputs": [],
   "source": [
    "def moving_average(array,k):\n",
    "    for i in range(0,len(array)-k+1):\n",
    "        print(np.sum(array[i:i+k])/k)\n",
    "    "
   ]
  },
  {
   "cell_type": "code",
   "execution_count": 18,
   "metadata": {},
   "outputs": [
    {
     "name": "stdout",
     "output_type": "stream",
     "text": [
      "25.0\n",
      "35.0\n",
      "45.0\n",
      "55.0\n",
      "65.0\n",
      "75.0\n",
      "85.0\n"
     ]
    }
   ],
   "source": [
    "moving_average([10,20,30,40,50,60,70,80,90,100],4)"
   ]
  },
  {
   "cell_type": "code",
   "execution_count": 19,
   "metadata": {},
   "outputs": [
    {
     "name": "stdout",
     "output_type": "stream",
     "text": [
      "5.0\n",
      "4.666666666666667\n",
      "5.666666666666667\n",
      "6.666666666666667\n",
      "9.666666666666666\n",
      "28.666666666666668\n",
      "49.333333333333336\n",
      "72.66666666666667\n",
      "84.0\n",
      "93.33333333333333\n",
      "116.33333333333333\n"
     ]
    }
   ],
   "source": [
    "moving_average([3, 5, 7, 2, 8, 10, 11, 65, 72, 81, 99, 100, 150],3)"
   ]
  },
  {
   "cell_type": "code",
   "execution_count": null,
   "metadata": {},
   "outputs": [],
   "source": []
  }
 ],
 "metadata": {
  "kernelspec": {
   "display_name": "Python [conda env:Anaconda3]",
   "language": "python",
   "name": "conda-env-Anaconda3-py"
  },
  "language_info": {
   "codemirror_mode": {
    "name": "ipython",
    "version": 3
   },
   "file_extension": ".py",
   "mimetype": "text/x-python",
   "name": "python",
   "nbconvert_exporter": "python",
   "pygments_lexer": "ipython3",
   "version": "3.6.5"
  }
 },
 "nbformat": 4,
 "nbformat_minor": 2
}
